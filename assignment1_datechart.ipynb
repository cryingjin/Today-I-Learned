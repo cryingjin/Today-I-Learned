{
  "nbformat": 4,
  "nbformat_minor": 0,
  "metadata": {
    "kernelspec": {
      "display_name": "Python 3",
      "language": "python",
      "name": "python3"
    },
    "language_info": {
      "codemirror_mode": {
        "name": "ipython",
        "version": 3
      },
      "file_extension": ".py",
      "mimetype": "text/x-python",
      "name": "python",
      "nbconvert_exporter": "python",
      "pygments_lexer": "ipython3",
      "version": "3.7.6"
    },
    "colab": {
      "name": "assignment1_datechart.ipynb",
      "provenance": [],
      "collapsed_sections": [],
      "machine_shape": "hm",
      "include_colab_link": true
    },
    "accelerator": "TPU"
  },
  "cells": [
    {
      "cell_type": "markdown",
      "metadata": {
        "id": "view-in-github",
        "colab_type": "text"
      },
      "source": [
        "<a href=\"https://colab.research.google.com/github/cryingjin/Today-I-Learned/blob/master/assignment1_datechart.ipynb\" target=\"_parent\"><img src=\"https://colab.research.google.com/assets/colab-badge.svg\" alt=\"Open In Colab\"/></a>"
      ]
    },
    {
      "cell_type": "markdown",
      "metadata": {
        "id": "FipSaqN7Yuij",
        "colab_type": "text"
      },
      "source": [
        "# COVID-Clustering\n",
        "앞으로 7-8월 간단한 NLP와 클러스터링, 그리고 bokeh를 통한 구현을 진행하는 것이 목표입니다. 잘되면 다른 데이터에 접목시켜보는 시간도 가져보아요 "
      ]
    },
    {
      "cell_type": "code",
      "metadata": {
        "id": "iKLOa_KxY1vG",
        "colab_type": "code",
        "colab": {
          "base_uri": "https://localhost:8080/",
          "height": 124
        },
        "outputId": "32c6253f-effc-4085-9d75-b8d7517b6d56"
      },
      "source": [
        "from google.colab import drive\n",
        "drive.mount('/content/drive')"
      ],
      "execution_count": 3,
      "outputs": [
        {
          "output_type": "stream",
          "text": [
            "Go to this URL in a browser: https://accounts.google.com/o/oauth2/auth?client_id=947318989803-6bn6qk8qdgf4n4g3pfee6491hc0brc4i.apps.googleusercontent.com&redirect_uri=urn%3aietf%3awg%3aoauth%3a2.0%3aoob&response_type=code&scope=email%20https%3a%2f%2fwww.googleapis.com%2fauth%2fdocs.test%20https%3a%2f%2fwww.googleapis.com%2fauth%2fdrive%20https%3a%2f%2fwww.googleapis.com%2fauth%2fdrive.photos.readonly%20https%3a%2f%2fwww.googleapis.com%2fauth%2fpeopleapi.readonly\n",
            "\n",
            "Enter your authorization code:\n",
            "··········\n",
            "Mounted at /content/drive\n"
          ],
          "name": "stdout"
        }
      ]
    },
    {
      "cell_type": "code",
      "metadata": {
        "id": "S966VEs_Y6MB",
        "colab_type": "code",
        "colab": {
          "base_uri": "https://localhost:8080/",
          "height": 34
        },
        "outputId": "39daf4c0-634c-4b74-fc64-5803293be399"
      },
      "source": [
        "cd /content/drive/My Drive/Daewoong"
      ],
      "execution_count": 4,
      "outputs": [
        {
          "output_type": "stream",
          "text": [
            "/content/drive/My Drive/Daewoong\n"
          ],
          "name": "stdout"
        }
      ]
    },
    {
      "cell_type": "markdown",
      "metadata": {
        "id": "-EelQ5D8Yuim",
        "colab_type": "text"
      },
      "source": [
        "***\n",
        "## Ready"
      ]
    },
    {
      "cell_type": "code",
      "metadata": {
        "id": "pV8Isf3pYuin",
        "colab_type": "code",
        "colab": {}
      },
      "source": [
        "# pandas 불러오기\n",
        "import pandas as pd"
      ],
      "execution_count": 5,
      "outputs": []
    },
    {
      "cell_type": "code",
      "metadata": {
        "id": "4limiQAQYuis",
        "colab_type": "code",
        "colab": {}
      },
      "source": [
        "# ready\n",
        "import numpy as np\n",
        "import glob\n",
        "import json\n",
        "from tqdm import tqdm\n",
        "import pickle\n",
        "import warnings\n",
        "warnings.filterwarnings('ignore')\n",
        "\n",
        "# visualize modules \n",
        "import matplotlib.pyplot as plt\n",
        "import seaborn as sns\n",
        "plt.style.use('seaborn')\n",
        "sns.set_palette(\"hls\")\n",
        "# plt.style.use('ggplot') 더 예쁜 seaborn 사용"
      ],
      "execution_count": 6,
      "outputs": []
    },
    {
      "cell_type": "markdown",
      "metadata": {
        "id": "vervJteCYuiv",
        "colab_type": "text"
      },
      "source": [
        "## 1. Data Load\n",
        "제가 캐글에 올라와 있는 metadata와 json 파일을 단순히 합쳐서 csv 파일로 만들어놨어요~ 13GB 가 1GB정도의 csv 파일이 되었습니다.  \n",
        "단순히 csv 파일 불러오기 입니다!\n",
        "다만 이 주피터노트북 파일과 같은 폴더에 파일을 넣고 불러와주세요!\n",
        "  \n",
        "csv 파일 이름은 df_covid 입니다~"
      ]
    },
    {
      "cell_type": "code",
      "metadata": {
        "id": "es3sbvnDYuiw",
        "colab_type": "code",
        "colab": {}
      },
      "source": [
        "# csv 파일 불러오기\n",
        "df_covid = pd.read_csv('df_covid.csv')\n",
        "df_covid.head(2)"
      ],
      "execution_count": 7,
      "outputs": []
    },
    {
      "cell_type": "markdown",
      "metadata": {
        "id": "jrbgfYliYui6",
        "colab_type": "text"
      },
      "source": [
        "## 2. Visualization\n",
        "시간에 따른 논문 발행 갯수만 빠르게 시각화해봄 - 0724\n"
      ]
    },
    {
      "cell_type": "code",
      "metadata": {
        "id": "PCoD3MJEYui7",
        "colab_type": "code",
        "colab": {
          "base_uri": "https://localhost:8080/",
          "height": 34
        },
        "outputId": "e45cbb04-1eff-4f19-fca5-397c75d7f556"
      },
      "source": [
        "# 현재 데이터 갯수\n",
        "df_covid.shape"
      ],
      "execution_count": 9,
      "outputs": [
        {
          "output_type": "execute_result",
          "data": {
            "text/plain": [
              "(63800, 9)"
            ]
          },
          "metadata": {
            "tags": []
          },
          "execution_count": 9
        }
      ]
    },
    {
      "cell_type": "markdown",
      "metadata": {
        "id": "HTWZU-0XYui_",
        "colab_type": "text"
      },
      "source": [
        "### Data handling\n",
        "\n",
        "- 중복제거\n",
        "- NA 제거\n",
        "- 시간에 따른 시각화\n"
      ]
    },
    {
      "cell_type": "code",
      "metadata": {
        "id": "s6fjOye6g8ya",
        "colab_type": "code",
        "colab": {
          "base_uri": "https://localhost:8080/",
          "height": 34
        },
        "outputId": "52fdf977-f489-4b4f-b3c7-e62abfed8b34"
      },
      "source": [
        "df_covid.drop_duplicates(['abstract', 'body_text'], inplace=True)\n",
        "df_covid['abstract'].describe(include='all')\n",
        "df_covid.shape    # (63639, 9)"
      ],
      "execution_count": 11,
      "outputs": [
        {
          "output_type": "execute_result",
          "data": {
            "text/plain": [
              "(63639, 9)"
            ]
          },
          "metadata": {
            "tags": []
          },
          "execution_count": 11
        }
      ]
    },
    {
      "cell_type": "code",
      "metadata": {
        "id": "B-z8zyJbg5ju",
        "colab_type": "code",
        "colab": {
          "base_uri": "https://localhost:8080/",
          "height": 296
        },
        "outputId": "4ae11968-db04-4f88-8123-83615cc47a9c"
      },
      "source": [
        "# 한번에 모든 컬럼에 있는 NA 삭제하기\n",
        "df_covid.dropna(inplace=True)\n",
        "df_covid.info()    # 37957개"
      ],
      "execution_count": 12,
      "outputs": [
        {
          "output_type": "stream",
          "text": [
            "<class 'pandas.core.frame.DataFrame'>\n",
            "Int64Index: 37957 entries, 0 to 63797\n",
            "Data columns (total 9 columns):\n",
            " #   Column            Non-Null Count  Dtype \n",
            "---  ------            --------------  ----- \n",
            " 0   paper_id          37957 non-null  object\n",
            " 1   doi               37957 non-null  object\n",
            " 2   abstract          37957 non-null  object\n",
            " 3   body_text         37957 non-null  object\n",
            " 4   publish_time      37957 non-null  object\n",
            " 5   authors           37957 non-null  object\n",
            " 6   title             37957 non-null  object\n",
            " 7   journal           37957 non-null  object\n",
            " 8   abstract_summary  37957 non-null  object\n",
            "dtypes: object(9)\n",
            "memory usage: 2.9+ MB\n"
          ],
          "name": "stdout"
        }
      ]
    },
    {
      "cell_type": "markdown",
      "metadata": {
        "id": "lbkM8EL4hbxJ",
        "colab_type": "text"
      },
      "source": [
        "### Date Chart 그리기\n",
        "시간에 따른 논문 발행 수를 체크해보자"
      ]
    },
    {
      "cell_type": "code",
      "metadata": {
        "id": "edpJISUkha1V",
        "colab_type": "code",
        "colab": {}
      },
      "source": [
        "# publsh_year 변수 생성\n",
        "df_covid['publish_year'] = df_covid.publish_time.astype('datetime64').dt.year\n",
        "#df_covid['publish_year'] = df_covid.publish_time.astype('datetime64').map(lambda x: x.strftime('%Y'))"
      ],
      "execution_count": 49,
      "outputs": []
    },
    {
      "cell_type": "code",
      "metadata": {
        "id": "CDAz2XDRjEB4",
        "colab_type": "code",
        "colab": {
          "base_uri": "https://localhost:8080/",
          "height": 348
        },
        "outputId": "2d5dccb0-82be-45a6-f6e3-7f4a2c91be59"
      },
      "source": [
        "# 발행 숫자 체크\n",
        "publish_count = df_covid['publish_year'].value_counts()\n",
        "#publish_count = sorted(publish_count)\n",
        "plt.figure(figsize=(20,5))\n",
        "#plt.bar(publish_count.index, publish_count)\n",
        "plt.bar(publish_count.index, publish_count)\n",
        "\n",
        "plt.xticks(rotation=45)\n",
        "plt.title('Numbers of paper',fontsize='large')\n",
        "plt.show()"
      ],
      "execution_count": 50,
      "outputs": [
        {
          "output_type": "display_data",
          "data": {
            "image/png": "[encoded data removed]",
            "text/plain": [
              "<Figure size 1440x360 with 1 Axes>"
            ]
          },
          "metadata": {
            "tags": []
          }
        }
      ]
    },
    {
      "cell_type": "code",
      "metadata": {
        "id": "mfRhGadFl_e3",
        "colab_type": "code",
        "colab": {
          "base_uri": "https://localhost:8080/",
          "height": 353
        },
        "outputId": "7f7f8ccb-cfda-41bd-955c-85b5345f6bd7"
      },
      "source": [
        "plt.figure(figsize=(20,5))\n",
        "publish_count.plot(title = 'Numbers of paper')"
      ],
      "execution_count": 51,
      "outputs": [
        {
          "output_type": "execute_result",
          "data": {
            "text/plain": [
              "<matplotlib.axes._subplots.AxesSubplot at 0x7fdb5a7aca20>"
            ]
          },
          "metadata": {
            "tags": []
          },
          "execution_count": 51
        },
        {
          "output_type": "display_data",
          "data": {
            "image/png": "[encoded data removed]",
            "text/plain": [
              "<Figure size 1440x360 with 1 Axes>"
            ]
          },
          "metadata": {
            "tags": []
          }
        }
      ]
    },
    {
      "cell_type": "code",
      "metadata": {
        "id": "PWxCMxE6pJXq",
        "colab_type": "code",
        "colab": {}
      },
      "source": [
        ""
      ],
      "execution_count": null,
      "outputs": []
    },
    {
      "cell_type": "code",
      "metadata": {
        "id": "B0RWjVfBpJfD",
        "colab_type": "code",
        "colab": {
          "base_uri": "https://localhost:8080/",
          "height": 34
        },
        "outputId": "08930ae9-5446-4211-c06b-e3804f2f0d38"
      },
      "source": [
        "p = df_covid.query(\"publish_time <'1970'\")\n",
        "p.shape"
      ],
      "execution_count": 56,
      "outputs": [
        {
          "output_type": "execute_result",
          "data": {
            "text/plain": [
              "(5, 10)"
            ]
          },
          "metadata": {
            "tags": []
          },
          "execution_count": 56
        }
      ]
    },
    {
      "cell_type": "markdown",
      "metadata": {
        "id": "p6Aj5OKlo4T1",
        "colab_type": "text"
      },
      "source": [
        "1970년 이전 논문이 5개 있어서 저렇게 나옵니다. 기간을 70년 이후부터 최근으로 좁히고 다시 만들어보겠습니다.\n"
      ]
    },
    {
      "cell_type": "code",
      "metadata": {
        "id": "1OivWfJFo-8-",
        "colab_type": "code",
        "colab": {
          "base_uri": "https://localhost:8080/",
          "height": 348
        },
        "outputId": "c753836d-1b85-43c6-9c5d-56cfc675c1d5"
      },
      "source": [
        "df_recent_paper = df_covid.query(\"publish_time >'1970'\")\n",
        "\n",
        "df_recent_paper_count = df_recent_paper['publish_year'].value_counts()\n",
        "plt.figure(figsize=(20,5))\n",
        "plt.bar(df_recent_paper_count.index, df_recent_paper_count)\n",
        "\n",
        "plt.xticks(rotation=45)\n",
        "plt.title('Numbers of paper, recent',fontsize='large')\n",
        "plt.show()"
      ],
      "execution_count": 57,
      "outputs": [
        {
          "output_type": "display_data",
          "data": {
            "image/png": "[encoded data removed]",
            "text/plain": [
              "<Figure size 1440x360 with 1 Axes>"
            ]
          },
          "metadata": {
            "tags": []
          }
        }
      ]
    },
    {
      "cell_type": "code",
      "metadata": {
        "id": "SK4kA0BJo-_h",
        "colab_type": "code",
        "colab": {
          "base_uri": "https://localhost:8080/",
          "height": 353
        },
        "outputId": "c5f1ff75-1f17-46f1-ce29-2ed1bcc984ca"
      },
      "source": [
        "plt.figure(figsize=(20,5))\n",
        "df_recent_paper_count.plot(title = 'Numbers of paper, recent')"
      ],
      "execution_count": 58,
      "outputs": [
        {
          "output_type": "execute_result",
          "data": {
            "text/plain": [
              "<matplotlib.axes._subplots.AxesSubplot at 0x7fdb5a54bc88>"
            ]
          },
          "metadata": {
            "tags": []
          },
          "execution_count": 58
        },
        {
          "output_type": "display_data",
          "data": {
            "image/png": "[encoded data removed]",
            "text/plain": [
              "<Figure size 1440x360 with 1 Axes>"
            ]
          },
          "metadata": {
            "tags": []
          }
        }
      ]
    },
    {
      "cell_type": "markdown",
      "metadata": {
        "id": "vUHtL4Rxp5Ko",
        "colab_type": "text"
      },
      "source": [
        "제가 보기에 그냥 무난하고 딱히 큰 인사이트는 없는 것 같은데 어떠신가요?  \n",
        "월별로 쪼개서도 해볼까요? (데이터에 월이 없는 것이 있어서 될지 모르겠음) \n"
      ]
    },
    {
      "cell_type": "markdown",
      "metadata": {
        "id": "iiMKRYSpYuke",
        "colab_type": "text"
      },
      "source": [
        "# 3. Save\n",
        "recent_data만 저장하겠습니다~! \n",
        "\n",
        "코드를 따라하고 싶으신 분들은 future_data나 past_data도 저장해보세요~"
      ]
    },
    {
      "cell_type": "code",
      "metadata": {
        "id": "Hb5Bc9oRYukf",
        "colab_type": "code",
        "colab": {}
      },
      "source": [
        "# pickle 저장\n",
        "with open('COVID19_assignment1_datechart.pickle','wb') as fw:\n",
        "    pickle.dump(df_covid,fw)"
      ],
      "execution_count": null,
      "outputs": []
    },
    {
      "cell_type": "markdown",
      "metadata": {
        "id": "F-9XyYO7Yukm",
        "colab_type": "text"
      },
      "source": [
        "# 고생하셨습니다~ 다음주 목요일에 뵙겠습니다!"
      ]
    },
    {
      "cell_type": "code",
      "metadata": {
        "id": "OqPuU4Q3Yukn",
        "colab_type": "code",
        "colab": {}
      },
      "source": [
        ""
      ],
      "execution_count": null,
      "outputs": []
    },
    {
      "cell_type": "code",
      "metadata": {
        "id": "-soClQZrYuks",
        "colab_type": "code",
        "colab": {}
      },
      "source": [
        ""
      ],
      "execution_count": null,
      "outputs": []
    }
  ]
}