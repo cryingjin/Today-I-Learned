{
  "nbformat": 4,
  "nbformat_minor": 0,
  "metadata": {
    "kernelspec": {
      "display_name": "pytorch",
      "language": "python",
      "name": "pytorch"
    },
    "language_info": {
      "codemirror_mode": {
        "name": "ipython",
        "version": 3
      },
      "file_extension": ".py",
      "mimetype": "text/x-python",
      "name": "python",
      "nbconvert_exporter": "python",
      "pygments_lexer": "ipython3",
      "version": "3.8.3"
    },
    "colab": {
      "name": "Load_image_data.ipynb",
      "provenance": [],
      "collapsed_sections": [],
      "machine_shape": "hm",
      "include_colab_link": true
    },
    "accelerator": "GPU"
  },
  "cells": [
    {
      "cell_type": "markdown",
      "metadata": {
        "id": "view-in-github",
        "colab_type": "text"
      },
      "source": [
        "<a href=\"https://colab.research.google.com/github/cryingjin/Today-I-learned/blob/master/Load_image_data.ipynb\" target=\"_parent\"><img src=\"https://colab.research.google.com/assets/colab-badge.svg\" alt=\"Open In Colab\"/></a>"
      ]
    },
    {
      "cell_type": "markdown",
      "metadata": {
        "id": "xVbeSz0zP5Lc",
        "colab_type": "text"
      },
      "source": [
        "# Pytorch로 포켓몬 이미지 로드하기  \n",
        "0721\n",
        "\n",
        "0721  conda 파이토치 가상환경에 파이토치 설치함  \n",
        "0721 torchvision 등등도 가상환경 pytorch에 설치"
      ]
    },
    {
      "cell_type": "markdown",
      "metadata": {
        "id": "RUcK0B0uP5Lj",
        "colab_type": "text"
      },
      "source": [
        "## Ref  \n",
        "keras : https://rfriend.tistory.com/431  \n",
        "pytorch :  \n",
        "https://ndb796.tistory.com/372  \n",
        "https://blog.naver.com/reisei11/221733757476  \n",
        "이미지 imshow  https://hulk89.github.io/pytorch/2017/11/23/pytorch-image-loader/  \n",
        "pytorch 공식 문서 :  https://tutorials.pytorch.kr/beginner/data_loading_tutorial.html\n"
      ]
    },
    {
      "cell_type": "code",
      "metadata": {
        "id": "cgOONBkiQJ7N",
        "colab_type": "code",
        "colab": {
          "base_uri": "https://localhost:8080/",
          "height": 125
        },
        "outputId": "5ce758a0-02b5-4100-ecb4-0281bf3bbc10"
      },
      "source": [
        "from google.colab import drive\n",
        "drive.mount('/content/drive')"
      ],
      "execution_count": 2,
      "outputs": [
        {
          "output_type": "stream",
          "text": [
            "Go to this URL in a browser: https://accounts.google.com/o/oauth2/auth?client_id=947318989803-6bn6qk8qdgf4n4g3pfee6491hc0brc4i.apps.googleusercontent.com&redirect_uri=urn%3aietf%3awg%3aoauth%3a2.0%3aoob&response_type=code&scope=email%20https%3a%2f%2fwww.googleapis.com%2fauth%2fdocs.test%20https%3a%2f%2fwww.googleapis.com%2fauth%2fdrive%20https%3a%2f%2fwww.googleapis.com%2fauth%2fdrive.photos.readonly%20https%3a%2f%2fwww.googleapis.com%2fauth%2fpeopleapi.readonly\n",
            "\n",
            "Enter your authorization code:\n",
            "··········\n",
            "Mounted at /content/drive\n"
          ],
          "name": "stdout"
        }
      ]
    },
    {
      "cell_type": "code",
      "metadata": {
        "id": "kX_7sLdiQRgd",
        "colab_type": "code",
        "colab": {
          "base_uri": "https://localhost:8080/",
          "height": 34
        },
        "outputId": "f684bc74-a63a-4820-dce3-f11fe7694dc2"
      },
      "source": [
        "cd /content/drive/My Drive/T-I-L"
      ],
      "execution_count": 3,
      "outputs": [
        {
          "output_type": "stream",
          "text": [
            "/content/drive/My Drive/T-I-L\n"
          ],
          "name": "stdout"
        }
      ]
    },
    {
      "cell_type": "code",
      "metadata": {
        "id": "Y_s37dGGP5Lk",
        "colab_type": "code",
        "colab": {}
      },
      "source": [
        "# ready\n",
        "import torch\n",
        "import torchvision\n",
        "import torchvision.transforms as transforms\n",
        "import matplotlib.pyplot as plt\n",
        "import numpy as np\n",
        "from torchvision.datasets import ImageFolder\n",
        "from torch.utils.data import DataLoader\n",
        "\n",
        "# 경고 메시지 무시하기\n",
        "import warnings\n",
        "warnings.filterwarnings(\"ignore\")"
      ],
      "execution_count": 1,
      "outputs": []
    },
    {
      "cell_type": "code",
      "metadata": {
        "id": "R6v01GJJP5Ls",
        "colab_type": "code",
        "colab": {}
      },
      "source": [
        "# transform 사용하여 image data compose하기\n",
        "# torchvision 안에 transforms 안에 Compose 클래스?가 이미지를 tensor로 바꿔줌\n",
        "trans = transforms.Compose([\n",
        "    #transforms.Resize(224,224),     # resize 잘못 설정해서 에러났었음\n",
        "    transforms.ToTensor()])\n",
        "    #transforms.Normalize((0.5,0.5,0.5),(0.5,0.5,0.5))])     # 그냥 아무거나 설정"
      ],
      "execution_count": 22,
      "outputs": []
    },
    {
      "cell_type": "code",
      "metadata": {
        "id": "NOMmGi-PP5Lv",
        "colab_type": "code",
        "colab": {}
      },
      "source": [
        "# path 설정\n",
        "'''\n",
        "import os    # directory와 path 관리\n",
        "import shutil    # 파일을 source에서 destination 경로로 복사\n",
        "\n",
        "base_dir = '/C:/Users/User/Desktop/Dev/2020_Summer_Study/DL'\n",
        "img_dir = '/pokemon/images'\n",
        "'''"
      ],
      "execution_count": null,
      "outputs": []
    },
    {
      "cell_type": "code",
      "metadata": {
        "id": "SM6taccYP5Ly",
        "colab_type": "code",
        "colab": {}
      },
      "source": [
        "# ImageFolder를 이용해 dataload 하기\n",
        "dataset = torchvision.datasets.ImageFolder(root='./pokemon', transform=trans)\n",
        "\n",
        "# image dataload path error 참고 https://stackoverflow.com/questions/54613573/runtimeerror-found-0-files-in-subfolders-of-error-about-subfolder-in-pytor"
      ],
      "execution_count": 23,
      "outputs": []
    },
    {
      "cell_type": "code",
      "metadata": {
        "id": "HoPQp9K9QoUs",
        "colab_type": "code",
        "colab": {
          "base_uri": "https://localhost:8080/",
          "height": 34
        },
        "outputId": "c31faa8f-b20b-42a6-c839-6dd1898ac97c"
      },
      "source": [
        "len(dataset)     # 809개~"
      ],
      "execution_count": 9,
      "outputs": [
        {
          "output_type": "execute_result",
          "data": {
            "text/plain": [
              "809"
            ]
          },
          "metadata": {
            "tags": []
          },
          "execution_count": 9
        }
      ]
    },
    {
      "cell_type": "code",
      "metadata": {
        "id": "frbpEF9uP5L2",
        "colab_type": "code",
        "colab": {}
      },
      "source": [
        "# DataLoader로 dataset을 batch image로 불러오기\n",
        "dataloader = DataLoader(dataset = dataset, batch_size=8, shuffle=True, num_workers=2)"
      ],
      "execution_count": 24,
      "outputs": []
    },
    {
      "cell_type": "code",
      "metadata": {
        "tags": [],
        "id": "VvfN9_WEP5L-",
        "colab_type": "code",
        "colab": {
          "base_uri": "https://localhost:8080/",
          "height": 1000
        },
        "outputId": "96ff351b-9cc5-4b34-fd01-ca6184f1ca25"
      },
      "source": [
        "for i, data in enumerate(dataloader):\n",
        "    print(data[0].size())      # input image\n",
        "    print(data[1])             # class label"
      ],
      "execution_count": 7,
      "outputs": [
        {
          "output_type": "stream",
          "text": [
            "torch.Size([8, 3, 120, 120])\n",
            "tensor([0, 0, 0, 0, 0, 0, 0, 0])\n",
            "torch.Size([8, 3, 120, 120])\n",
            "tensor([0, 0, 0, 0, 0, 0, 0, 0])\n",
            "torch.Size([8, 3, 120, 120])\n",
            "tensor([0, 0, 0, 0, 0, 0, 0, 0])\n",
            "torch.Size([8, 3, 120, 120])\n",
            "tensor([0, 0, 0, 0, 0, 0, 0, 0])\n",
            "torch.Size([8, 3, 120, 120])\n",
            "tensor([0, 0, 0, 0, 0, 0, 0, 0])\n",
            "torch.Size([8, 3, 120, 120])\n",
            "tensor([0, 0, 0, 0, 0, 0, 0, 0])\n",
            "torch.Size([8, 3, 120, 120])\n",
            "tensor([0, 0, 0, 0, 0, 0, 0, 0])\n",
            "torch.Size([8, 3, 120, 120])\n",
            "tensor([0, 0, 0, 0, 0, 0, 0, 0])\n",
            "torch.Size([8, 3, 120, 120])\n",
            "tensor([0, 0, 0, 0, 0, 0, 0, 0])\n",
            "torch.Size([8, 3, 120, 120])\n",
            "tensor([0, 0, 0, 0, 0, 0, 0, 0])\n",
            "torch.Size([8, 3, 120, 120])\n",
            "tensor([0, 0, 0, 0, 0, 0, 0, 0])\n",
            "torch.Size([8, 3, 120, 120])\n",
            "tensor([0, 0, 0, 0, 0, 0, 0, 0])\n",
            "torch.Size([8, 3, 120, 120])\n",
            "tensor([0, 0, 0, 0, 0, 0, 0, 0])\n",
            "torch.Size([8, 3, 120, 120])\n",
            "tensor([0, 0, 0, 0, 0, 0, 0, 0])\n",
            "torch.Size([8, 3, 120, 120])\n",
            "tensor([0, 0, 0, 0, 0, 0, 0, 0])\n",
            "torch.Size([8, 3, 120, 120])\n",
            "tensor([0, 0, 0, 0, 0, 0, 0, 0])\n",
            "torch.Size([8, 3, 120, 120])\n",
            "tensor([0, 0, 0, 0, 0, 0, 0, 0])\n",
            "torch.Size([8, 3, 120, 120])\n",
            "tensor([0, 0, 0, 0, 0, 0, 0, 0])\n",
            "torch.Size([8, 3, 120, 120])\n",
            "tensor([0, 0, 0, 0, 0, 0, 0, 0])\n",
            "torch.Size([8, 3, 120, 120])\n",
            "tensor([0, 0, 0, 0, 0, 0, 0, 0])\n",
            "torch.Size([8, 3, 120, 120])\n",
            "tensor([0, 0, 0, 0, 0, 0, 0, 0])\n",
            "torch.Size([8, 3, 120, 120])\n",
            "tensor([0, 0, 0, 0, 0, 0, 0, 0])\n",
            "torch.Size([8, 3, 120, 120])\n",
            "tensor([0, 0, 0, 0, 0, 0, 0, 0])\n",
            "torch.Size([8, 3, 120, 120])\n",
            "tensor([0, 0, 0, 0, 0, 0, 0, 0])\n",
            "torch.Size([8, 3, 120, 120])\n",
            "tensor([0, 0, 0, 0, 0, 0, 0, 0])\n",
            "torch.Size([8, 3, 120, 120])\n",
            "tensor([0, 0, 0, 0, 0, 0, 0, 0])\n",
            "torch.Size([8, 3, 120, 120])\n",
            "tensor([0, 0, 0, 0, 0, 0, 0, 0])\n",
            "torch.Size([8, 3, 120, 120])\n",
            "tensor([0, 0, 0, 0, 0, 0, 0, 0])\n",
            "torch.Size([8, 3, 120, 120])\n",
            "tensor([0, 0, 0, 0, 0, 0, 0, 0])\n",
            "torch.Size([8, 3, 120, 120])\n",
            "tensor([0, 0, 0, 0, 0, 0, 0, 0])\n",
            "torch.Size([8, 3, 120, 120])\n",
            "tensor([0, 0, 0, 0, 0, 0, 0, 0])\n",
            "torch.Size([8, 3, 120, 120])\n",
            "tensor([0, 0, 0, 0, 0, 0, 0, 0])\n",
            "torch.Size([8, 3, 120, 120])\n",
            "tensor([0, 0, 0, 0, 0, 0, 0, 0])\n",
            "torch.Size([8, 3, 120, 120])\n",
            "tensor([0, 0, 0, 0, 0, 0, 0, 0])\n",
            "torch.Size([8, 3, 120, 120])\n",
            "tensor([0, 0, 0, 0, 0, 0, 0, 0])\n",
            "torch.Size([8, 3, 120, 120])\n",
            "tensor([0, 0, 0, 0, 0, 0, 0, 0])\n",
            "torch.Size([8, 3, 120, 120])\n",
            "tensor([0, 0, 0, 0, 0, 0, 0, 0])\n",
            "torch.Size([8, 3, 120, 120])\n",
            "tensor([0, 0, 0, 0, 0, 0, 0, 0])\n",
            "torch.Size([8, 3, 120, 120])\n",
            "tensor([0, 0, 0, 0, 0, 0, 0, 0])\n",
            "torch.Size([8, 3, 120, 120])\n",
            "tensor([0, 0, 0, 0, 0, 0, 0, 0])\n",
            "torch.Size([8, 3, 120, 120])\n",
            "tensor([0, 0, 0, 0, 0, 0, 0, 0])\n",
            "torch.Size([8, 3, 120, 120])\n",
            "tensor([0, 0, 0, 0, 0, 0, 0, 0])\n",
            "torch.Size([8, 3, 120, 120])\n",
            "tensor([0, 0, 0, 0, 0, 0, 0, 0])\n",
            "torch.Size([8, 3, 120, 120])\n",
            "tensor([0, 0, 0, 0, 0, 0, 0, 0])\n",
            "torch.Size([8, 3, 120, 120])\n",
            "tensor([0, 0, 0, 0, 0, 0, 0, 0])\n",
            "torch.Size([8, 3, 120, 120])\n",
            "tensor([0, 0, 0, 0, 0, 0, 0, 0])\n",
            "torch.Size([8, 3, 120, 120])\n",
            "tensor([0, 0, 0, 0, 0, 0, 0, 0])\n",
            "torch.Size([8, 3, 120, 120])\n",
            "tensor([0, 0, 0, 0, 0, 0, 0, 0])\n",
            "torch.Size([8, 3, 120, 120])\n",
            "tensor([0, 0, 0, 0, 0, 0, 0, 0])\n",
            "torch.Size([8, 3, 120, 120])\n",
            "tensor([0, 0, 0, 0, 0, 0, 0, 0])\n",
            "torch.Size([8, 3, 120, 120])\n",
            "tensor([0, 0, 0, 0, 0, 0, 0, 0])\n",
            "torch.Size([8, 3, 120, 120])\n",
            "tensor([0, 0, 0, 0, 0, 0, 0, 0])\n",
            "torch.Size([8, 3, 120, 120])\n",
            "tensor([0, 0, 0, 0, 0, 0, 0, 0])\n",
            "torch.Size([8, 3, 120, 120])\n",
            "tensor([0, 0, 0, 0, 0, 0, 0, 0])\n",
            "torch.Size([8, 3, 120, 120])\n",
            "tensor([0, 0, 0, 0, 0, 0, 0, 0])\n",
            "torch.Size([8, 3, 120, 120])\n",
            "tensor([0, 0, 0, 0, 0, 0, 0, 0])\n",
            "torch.Size([8, 3, 120, 120])\n",
            "tensor([0, 0, 0, 0, 0, 0, 0, 0])\n",
            "torch.Size([8, 3, 120, 120])\n",
            "tensor([0, 0, 0, 0, 0, 0, 0, 0])\n",
            "torch.Size([8, 3, 120, 120])\n",
            "tensor([0, 0, 0, 0, 0, 0, 0, 0])\n",
            "torch.Size([8, 3, 120, 120])\n",
            "tensor([0, 0, 0, 0, 0, 0, 0, 0])\n",
            "torch.Size([8, 3, 120, 120])\n",
            "tensor([0, 0, 0, 0, 0, 0, 0, 0])\n",
            "torch.Size([8, 3, 120, 120])\n",
            "tensor([0, 0, 0, 0, 0, 0, 0, 0])\n",
            "torch.Size([8, 3, 120, 120])\n",
            "tensor([0, 0, 0, 0, 0, 0, 0, 0])\n",
            "torch.Size([8, 3, 120, 120])\n",
            "tensor([0, 0, 0, 0, 0, 0, 0, 0])\n",
            "torch.Size([8, 3, 120, 120])\n",
            "tensor([0, 0, 0, 0, 0, 0, 0, 0])\n",
            "torch.Size([8, 3, 120, 120])\n",
            "tensor([0, 0, 0, 0, 0, 0, 0, 0])\n",
            "torch.Size([8, 3, 120, 120])\n",
            "tensor([0, 0, 0, 0, 0, 0, 0, 0])\n",
            "torch.Size([8, 3, 120, 120])\n",
            "tensor([0, 0, 0, 0, 0, 0, 0, 0])\n",
            "torch.Size([8, 3, 120, 120])\n",
            "tensor([0, 0, 0, 0, 0, 0, 0, 0])\n",
            "torch.Size([8, 3, 120, 120])\n",
            "tensor([0, 0, 0, 0, 0, 0, 0, 0])\n",
            "torch.Size([8, 3, 120, 120])\n",
            "tensor([0, 0, 0, 0, 0, 0, 0, 0])\n",
            "torch.Size([8, 3, 120, 120])\n",
            "tensor([0, 0, 0, 0, 0, 0, 0, 0])\n",
            "torch.Size([8, 3, 120, 120])\n",
            "tensor([0, 0, 0, 0, 0, 0, 0, 0])\n",
            "torch.Size([8, 3, 120, 120])\n",
            "tensor([0, 0, 0, 0, 0, 0, 0, 0])\n",
            "torch.Size([8, 3, 120, 120])\n",
            "tensor([0, 0, 0, 0, 0, 0, 0, 0])\n",
            "torch.Size([8, 3, 120, 120])\n",
            "tensor([0, 0, 0, 0, 0, 0, 0, 0])\n",
            "torch.Size([8, 3, 120, 120])\n",
            "tensor([0, 0, 0, 0, 0, 0, 0, 0])\n",
            "torch.Size([8, 3, 120, 120])\n",
            "tensor([0, 0, 0, 0, 0, 0, 0, 0])\n",
            "torch.Size([8, 3, 120, 120])\n",
            "tensor([0, 0, 0, 0, 0, 0, 0, 0])\n",
            "torch.Size([8, 3, 120, 120])\n",
            "tensor([0, 0, 0, 0, 0, 0, 0, 0])\n",
            "torch.Size([8, 3, 120, 120])\n",
            "tensor([0, 0, 0, 0, 0, 0, 0, 0])\n",
            "torch.Size([8, 3, 120, 120])\n",
            "tensor([0, 0, 0, 0, 0, 0, 0, 0])\n",
            "torch.Size([8, 3, 120, 120])\n",
            "tensor([0, 0, 0, 0, 0, 0, 0, 0])\n",
            "torch.Size([8, 3, 120, 120])\n",
            "tensor([0, 0, 0, 0, 0, 0, 0, 0])\n",
            "torch.Size([8, 3, 120, 120])\n",
            "tensor([0, 0, 0, 0, 0, 0, 0, 0])\n",
            "torch.Size([8, 3, 120, 120])\n",
            "tensor([0, 0, 0, 0, 0, 0, 0, 0])\n",
            "torch.Size([8, 3, 120, 120])\n",
            "tensor([0, 0, 0, 0, 0, 0, 0, 0])\n",
            "torch.Size([8, 3, 120, 120])\n",
            "tensor([0, 0, 0, 0, 0, 0, 0, 0])\n",
            "torch.Size([8, 3, 120, 120])\n",
            "tensor([0, 0, 0, 0, 0, 0, 0, 0])\n",
            "torch.Size([8, 3, 120, 120])\n",
            "tensor([0, 0, 0, 0, 0, 0, 0, 0])\n",
            "torch.Size([8, 3, 120, 120])\n",
            "tensor([0, 0, 0, 0, 0, 0, 0, 0])\n",
            "torch.Size([8, 3, 120, 120])\n",
            "tensor([0, 0, 0, 0, 0, 0, 0, 0])\n",
            "torch.Size([8, 3, 120, 120])\n",
            "tensor([0, 0, 0, 0, 0, 0, 0, 0])\n",
            "torch.Size([8, 3, 120, 120])\n",
            "tensor([0, 0, 0, 0, 0, 0, 0, 0])\n",
            "torch.Size([8, 3, 120, 120])\n",
            "tensor([0, 0, 0, 0, 0, 0, 0, 0])\n",
            "torch.Size([8, 3, 120, 120])\n",
            "tensor([0, 0, 0, 0, 0, 0, 0, 0])\n",
            "torch.Size([8, 3, 120, 120])\n",
            "tensor([0, 0, 0, 0, 0, 0, 0, 0])\n",
            "torch.Size([8, 3, 120, 120])\n",
            "tensor([0, 0, 0, 0, 0, 0, 0, 0])\n",
            "torch.Size([8, 3, 120, 120])\n",
            "tensor([0, 0, 0, 0, 0, 0, 0, 0])\n",
            "torch.Size([8, 3, 120, 120])\n",
            "tensor([0, 0, 0, 0, 0, 0, 0, 0])\n",
            "torch.Size([8, 3, 120, 120])\n",
            "tensor([0, 0, 0, 0, 0, 0, 0, 0])\n",
            "torch.Size([1, 3, 120, 120])\n",
            "tensor([0])\n"
          ],
          "name": "stdout"
        }
      ]
    },
    {
      "cell_type": "markdown",
      "metadata": {
        "id": "S80IiRS3P5MB",
        "colab_type": "text"
      },
      "source": [
        "뭐가 나온건지 잘 모르겠다! input size가 8,3,120,120 인것은 확실히 알겠다!"
      ]
    },
    {
      "cell_type": "markdown",
      "metadata": {
        "id": "qb_dSBUpP5MC",
        "colab_type": "text"
      },
      "source": [
        "기본적으로 PyTorch는 이미지 데이터셋을 [Batch Size, Channel, Width, Height] 순서대로 저장하기 때문에, 이를 matplotlib로 출력하기 위해서는 각 이미지를 [Width, Height, Channel] 형태로 변경해 줄 필요가 있다. 그것은 numpy 라이브러리의 transpose() 함수를 이용하여 해결할 수 있다.\n",
        "\n",
        "출처: https://ndb796.tistory.com/372 [안경잡이개발자]"
      ]
    },
    {
      "cell_type": "code",
      "metadata": {
        "id": "iqKlo8Q4P5MC",
        "colab_type": "code",
        "colab": {
          "base_uri": "https://localhost:8080/",
          "height": 321
        },
        "outputId": "912bd60c-ec62-4aa3-9dff-b15408f5391d"
      },
      "source": [
        "%matplotlib inline\n",
        "from torchvision.transforms import ToPILImage\n",
        "to_img = ToPILImage()\n",
        "\n",
        "for i, data in enumerate(dataloader):\n",
        "    img = data[0][0,:]\n",
        "    break\n",
        "print(img.size())\n",
        "print(\"max: {}, min: {}\".format(np.max(img.numpy()), np.min(img.numpy())))\n",
        "plt.imshow(to_img(img))"
      ],
      "execution_count": 25,
      "outputs": [
        {
          "output_type": "stream",
          "text": [
            "torch.Size([3, 120, 120])\n",
            "max: 1.0, min: 0.0\n"
          ],
          "name": "stdout"
        },
        {
          "output_type": "execute_result",
          "data": {
            "text/plain": [
              "<matplotlib.image.AxesImage at 0x7ffa98a19e48>"
            ]
          },
          "metadata": {
            "tags": []
          },
          "execution_count": 25
        },
        {
          "output_type": "display_data",
          "data": {
            "image/png": "[encoded data removed]",
            "text/plain": [
              "<Figure size 432x288 with 1 Axes>"
            ]
          },
          "metadata": {
            "tags": [],
            "needs_background": "light"
          }
        }
      ]
    },
    {
      "cell_type": "markdown",
      "metadata": {
        "id": "H04IAgESRAbk",
        "colab_type": "text"
      },
      "source": [
        "이미지 잘 나옴~  "
      ]
    },
    {
      "cell_type": "code",
      "metadata": {
        "id": "FgFT13NnP5MH",
        "colab_type": "code",
        "colab": {
          "base_uri": "https://localhost:8080/",
          "height": 303
        },
        "outputId": "094db6d9-4daa-4661-c7e7-0a0d39906e6a"
      },
      "source": [
        "%matplotlib inline\n",
        "from torchvision.transforms import ToPILImage\n",
        "to_img = ToPILImage()\n",
        "\n",
        "for i, data in enumerate(dataloader):\n",
        "    img = data[0][7,:]\n",
        "    break\n",
        "print(img.size())\n",
        "plt.imshow(to_img(img))"
      ],
      "execution_count": 26,
      "outputs": [
        {
          "output_type": "stream",
          "text": [
            "torch.Size([3, 120, 120])\n"
          ],
          "name": "stdout"
        },
        {
          "output_type": "execute_result",
          "data": {
            "text/plain": [
              "<matplotlib.image.AxesImage at 0x7ffa97d04ba8>"
            ]
          },
          "metadata": {
            "tags": []
          },
          "execution_count": 26
        },
        {
          "output_type": "display_data",
          "data": {
            "image/png": "[encoded data removed]",
            "text/plain": [
              "<Figure size 432x288 with 1 Axes>"
            ]
          },
          "metadata": {
            "tags": [],
            "needs_background": "light"
          }
        }
      ]
    },
    {
      "cell_type": "code",
      "metadata": {
        "id": "rAub-lLJRRKX",
        "colab_type": "code",
        "colab": {}
      },
      "source": [
        ""
      ],
      "execution_count": null,
      "outputs": []
    },
    {
      "cell_type": "markdown",
      "metadata": {
        "id": "bow58q0YSerJ",
        "colab_type": "text"
      },
      "source": [
        "낼할꺼 : 개미 vs 벌 분류기  \n",
        "http://blog.naver.com/PostView.nhn?blogId=sw4r&logNo=221734454450&categoryNo=0&parentCategoryNo=0&viewDate=&currentPage=1&postListTopCurrentPage=1&from=postView"
      ]
    },
    {
      "cell_type": "code",
      "metadata": {
        "id": "6bfjp3zwSil6",
        "colab_type": "code",
        "colab": {}
      },
      "source": [
        ""
      ],
      "execution_count": null,
      "outputs": []
    }
  ]
}